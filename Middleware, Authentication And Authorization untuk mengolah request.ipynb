{
 "cells": [
  {
   "cell_type": "markdown",
   "id": "0f6943b3",
   "metadata": {},
   "source": [
    "# &#9989; Membuat Middleware dengan Auth"
   ]
  },
  {
   "cell_type": "markdown",
   "id": "0c7ac722",
   "metadata": {},
   "source": [
    "Perintah untuk membuat middleware:  \n",
    "\n",
    "<code>php artisan make:middleware isLogin</code>  \n",
    "<code>php artisan make:middleware isTamu</code>"
   ]
  },
  {
   "cell_type": "markdown",
   "id": "a5aebb9d",
   "metadata": {},
   "source": [
    "Edit di lokasi **/app/Http/Middleware/isLogin**"
   ]
  },
  {
   "cell_type": "code",
   "execution_count": null,
   "id": "b7c6cb97",
   "metadata": {},
   "outputs": [],
   "source": [
    "...\n",
    "public function handle(Request $request, Closure $next)\n",
    "{\n",
    "    if (Auth::check()) {\n",
    "        return $next($request);\n",
    "    }\n",
    "    return redirect('sesi')->withErrors('Silakan login terlebih dahulu');\n",
    "}\n",
    "..."
   ]
  },
  {
   "cell_type": "markdown",
   "id": "e4bdec2d",
   "metadata": {},
   "source": [
    "Edit di lokasi /app/Http/Middleware/isTamu"
   ]
  },
  {
   "cell_type": "code",
   "execution_count": null,
   "id": "02253f4d",
   "metadata": {},
   "outputs": [],
   "source": [
    "...\n",
    "public function handle(Request $request, Closure $next)\n",
    "{\n",
    "    if (Auth::check()) {\n",
    "        return redirect('siswa')->with('success', 'Kamu sudah dalam keadaan login!');\n",
    "    }\n",
    "    return $next($request);\n",
    "}\n",
    "..."
   ]
  },
  {
   "cell_type": "markdown",
   "id": "0314b010",
   "metadata": {},
   "source": [
    "Daftarkan di dalam kernel.php"
   ]
  },
  {
   "cell_type": "code",
   "execution_count": null,
   "id": "10b57ff0",
   "metadata": {},
   "outputs": [],
   "source": [
    "protected $routeMiddleware = [\n",
    "    ...\n",
    "    'isLogin' => \\App\\Http\\Middleware\\isLogin::class,\n",
    "    'isTamu' => \\App\\Http\\Middleware\\isTamu::class\n",
    "    ...\n",
    "];"
   ]
  },
  {
   "cell_type": "markdown",
   "id": "c42b1a6c",
   "metadata": {},
   "source": [
    "Masukkan ke dalam route, untuk mengatur perilaku dari route"
   ]
  },
  {
   "cell_type": "code",
   "execution_count": null,
   "id": "83fd44b6",
   "metadata": {},
   "outputs": [],
   "source": [
    "...\n",
    "Route::resource('siswa', SiswaController::class)->middleware('isLogin');\n",
    "...\n",
    "Route::get('sesi', [SessionController::class, 'index'])->middleware('isTamu');\n",
    "Route::post('sesi/login', [SessionController::class, 'login'])->middleware('isTamu');\n",
    "Route::get('sesi/logout', [SessionController::class, 'logout']);\n",
    "Route::get('sesi/register', [SessionController::class, 'register'])->middleware('isTamu');\n",
    "Route::post('sesi/register', [SessionController::class, 'create'])->middleware('isTamu');\n",
    "..."
   ]
  }
 ],
 "metadata": {
  "kernelspec": {
   "display_name": "Python 3 (ipykernel)",
   "language": "python",
   "name": "python3"
  },
  "language_info": {
   "codemirror_mode": {
    "name": "ipython",
    "version": 3
   },
   "file_extension": ".py",
   "mimetype": "text/x-python",
   "name": "python",
   "nbconvert_exporter": "python",
   "pygments_lexer": "ipython3",
   "version": "3.10.4"
  }
 },
 "nbformat": 4,
 "nbformat_minor": 5
}
